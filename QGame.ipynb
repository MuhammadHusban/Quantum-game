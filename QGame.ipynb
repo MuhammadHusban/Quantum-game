{
  "nbformat": 4,
  "nbformat_minor": 0,
  "metadata": {
    "colab": {
      "provenance": []
    },
    "kernelspec": {
      "name": "python3",
      "display_name": "Python 3"
    },
    "language_info": {
      "name": "python"
    }
  },
  "cells": [
    {
      "cell_type": "code",
      "source": [
        "# Install necessary packages\n",
        "!pip install qiskit qiskit-aer matplotlib --quiet\n",
        "\n",
        "# Import the required modules\n",
        "%matplotlib inline\n",
        "import qiskit\n",
        "from qiskit import QuantumCircuit, transpile\n",
        "from qiskit.visualization import plot_histogram\n",
        "import matplotlib.pyplot as plt\n",
        "from qiskit_aer import Aer\n",
        "from IPython.display import display\n",
        "\n",
        "def quantum_coin_flip():\n",
        "    # Initialize the quantum circuit with 1 qubit and 1 classical bit\n",
        "    qc = QuantumCircuit(1, 1)\n",
        "\n",
        "    # Apply a Hadamard gate to put the qubit in a superposition state\n",
        "    qc.h(0)\n",
        "\n",
        "    # Measure the qubit\n",
        "    qc.measure(0, 0)\n",
        "\n",
        "    # Simulate the quantum circuit\n",
        "    simulator = Aer.get_backend('qasm_simulator')\n",
        "    compiled_circuit = transpile(qc, simulator)\n",
        "    result = simulator.run(compiled_circuit, shots=1024).result()\n",
        "\n",
        "    # Get the measurement result\n",
        "    counts = result.get_counts(qc)\n",
        "\n",
        "    # Plot the result\n",
        "    histogram = plot_histogram(counts)\n",
        "    display(histogram)\n",
        "    plt.show()\n",
        "\n",
        "    # Determine outcome\n",
        "    outcome = '0' if counts.get('0', 0) > counts.get('1', 0) else '1'\n",
        "\n",
        "    return outcome\n",
        "\n",
        "def main():\n",
        "    print(\"Welcome to the Quantum Coin Flip Game!\")\n",
        "    guess = input(\"Guess the outcome of the coin flip (heads/tails): \").strip().lower()\n",
        "\n",
        "    if guess not in ['heads', 'tails']:\n",
        "        print(\"Invalid guess. Please enter 'heads' or 'tails'.\")\n",
        "        return\n",
        "\n",
        "    outcome = quantum_coin_flip()\n",
        "\n",
        "    # Translate the quantum outcome to heads/tails\n",
        "    outcome_str = 'heads' if outcome == '0' else 'tails'\n",
        "\n",
        "    print(f\"The quantum coin flip result is: {outcome_str}\")\n",
        "\n",
        "    if guess == outcome_str:\n",
        "        print(\"Congratulations! You guessed correctly.\")\n",
        "    else:\n",
        "        print(\"Sorry, you guessed wrong. Better luck next time!\")\n",
        "\n",
        "if __name__ == \"__main__\":\n",
        "    main()\n"
      ],
      "metadata": {
        "colab": {
          "base_uri": "https://localhost:8080/",
          "height": 498
        },
        "id": "skKgNaNJz6Yp",
        "outputId": "f04a2948-7dee-4f48-a879-343a7f2b1a5b"
      },
      "execution_count": 1,
      "outputs": [
        {
          "name": "stdout",
          "output_type": "stream",
          "text": [
            "Welcome to the Quantum Coin Flip Game!\n",
            "Guess the outcome of the coin flip (heads/tails): heads\n"
          ]
        },
        {
          "output_type": "display_data",
          "data": {
            "text/plain": [
              "<Figure size 640x480 with 1 Axes>"
            ],
            "image/png": "[encoded data removed]"
          },
          "metadata": {}
        },
        {
          "output_type": "stream",
          "name": "stdout",
          "text": [
            "The quantum coin flip result is: tails\n",
            "Sorry, you guessed wrong. Better luck next time!\n"
          ]
        }
      ]
    },
    {
      "cell_type": "code",
      "source": [],
      "metadata": {
        "id": "eK-sbfFQ0RTI"
      },
      "execution_count": null,
      "outputs": []
    }
  ]
}